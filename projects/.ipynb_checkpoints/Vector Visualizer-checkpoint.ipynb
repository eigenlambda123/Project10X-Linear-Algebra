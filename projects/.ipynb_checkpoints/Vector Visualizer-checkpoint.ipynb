{
 "cells": [
  {
   "cell_type": "code",
   "execution_count": null,
   "id": "14fd288a-dccd-408b-88cf-1df3e57be333",
   "metadata": {},
   "outputs": [],
   "source": []
  },
  {
   "cell_type": "code",
   "execution_count": 16,
   "id": "9153a97f-5b76-4d76-a604-c454d6a78453",
   "metadata": {},
   "outputs": [
    {
     "name": "stdout",
     "output_type": "stream",
     "text": [
      "[2, 4]\n",
      "[5, 10]\n",
      "Linear combination result: [6, 12]\n"
     ]
    }
   ],
   "source": [
    "class VectorVisualizer:\n",
    "    def __init__(self, v=None, w=None, scalar_a=None, scalar_b=None):\n",
    "        \"\"\"\n",
    "        Initialize the visualizer with optional vectors v and w.\n",
    "        \"\"\"\n",
    "        self.v = v  # Vector 1: [x1, y1]\n",
    "        self.w = w  # Vector 2: [x2, y2]\n",
    "        self.scalar_a = scalar_a\n",
    "        self.scalar_b = scalar_b\n",
    "        \n",
    "        # Default plot settings\n",
    "        self.xlim = (-10, 10)\n",
    "        self.ylim = (-10, 10)\n",
    "        self.figsize = (6, 6)\n",
    "\n",
    "    def vector_addition(self):\n",
    "        vector_v, vector_w = self.v, self.w\n",
    "        res = []\n",
    "        if len(vector_v) != len(vector_w):\n",
    "            return \"vector length should be equal\"\n",
    "\n",
    "        for i in range(len(vector_v)):\n",
    "            res.append(vector_v[i]+vector_w[i])\n",
    "\n",
    "        print(res)\n",
    "\n",
    "        \n",
    "    def scalar_multiplication(self):\n",
    "        vector_v = self.v\n",
    "        scalar = self.scalar_a\n",
    "        res = []\n",
    "        for i in range(len(vector_v)):\n",
    "                res.append(vector_v[i]*scalar)\n",
    "        print(res)\n",
    "        \n",
    "\n",
    "    def linear_combination(self):\n",
    "        v = self.v\n",
    "        w = self.w\n",
    "        a = self.scalar_a  # scalar for v\n",
    "        b = self.scalar_b  # scalar for w\n",
    "    \n",
    "        if len(v) != len(w):\n",
    "            return \"Error: Vectors must be the same length\"\n",
    "    \n",
    "        res = []\n",
    "        for i in range(len(v)):\n",
    "            scaled_v = a * v[i]\n",
    "            scaled_w = b * w[i]\n",
    "            res.append(scaled_v + scaled_w)\n",
    "    \n",
    "        print(\"Linear combination result:\", res)\n",
    "\n",
    "\n",
    "VS = VectorVisualizer([1, 2], [1, 2], 5, 1)\n",
    "VS.vector_addition()\n",
    "VS.scalar_multiplication()\n",
    "VS.linear_combination()"
   ]
  },
  {
   "cell_type": "code",
   "execution_count": null,
   "id": "20818ee8-f0cd-4b4b-8d4f-790148b684ed",
   "metadata": {},
   "outputs": [],
   "source": []
  }
 ],
 "metadata": {
  "kernelspec": {
   "display_name": "Python 3 (ipykernel)",
   "language": "python",
   "name": "python3"
  },
  "language_info": {
   "codemirror_mode": {
    "name": "ipython",
    "version": 3
   },
   "file_extension": ".py",
   "mimetype": "text/x-python",
   "name": "python",
   "nbconvert_exporter": "python",
   "pygments_lexer": "ipython3",
   "version": "3.12.6"
  }
 },
 "nbformat": 4,
 "nbformat_minor": 5
}
