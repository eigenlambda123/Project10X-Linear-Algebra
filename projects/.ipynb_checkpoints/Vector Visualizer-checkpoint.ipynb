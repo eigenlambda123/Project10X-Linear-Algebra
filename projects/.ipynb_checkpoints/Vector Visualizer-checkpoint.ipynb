{
 "cells": [
  {
   "cell_type": "code",
   "execution_count": null,
   "id": "9153a97f-5b76-4d76-a604-c454d6a78453",
   "metadata": {},
   "outputs": [],
   "source": [
    "class VectorVisualizer:\n",
    "    def __init__(self, v=None, w=None):\n",
    "        \"\"\"\n",
    "        Initialize the visualizer with optional vectors v and w.\n",
    "        \"\"\"\n",
    "        self.v = v  # Vector 1: [x1, y1]\n",
    "        self.w = w  # Vector 2: [x2, y2]\n",
    "        \n",
    "        # Default plot settings\n",
    "        self.xlim = (-10, 10)\n",
    "        self.ylim = (-10, 10)\n",
    "        self.figsize = (6, 6)\n",
    "\n",
    "    def vector_addition(self):\n",
    "        pass\n",
    "\n",
    "    def scalar_multiplication(self):\n",
    "        pass"
   ]
  }
 ],
 "metadata": {
  "kernelspec": {
   "display_name": "Python 3 (ipykernel)",
   "language": "python",
   "name": "python3"
  },
  "language_info": {
   "codemirror_mode": {
    "name": "ipython",
    "version": 3
   },
   "file_extension": ".py",
   "mimetype": "text/x-python",
   "name": "python",
   "nbconvert_exporter": "python",
   "pygments_lexer": "ipython3",
   "version": "3.12.6"
  }
 },
 "nbformat": 4,
 "nbformat_minor": 5
}
