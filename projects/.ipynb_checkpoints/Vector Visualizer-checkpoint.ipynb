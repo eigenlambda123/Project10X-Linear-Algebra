{
 "cells": [
  {
   "cell_type": "code",
   "execution_count": 22,
   "id": "14fd288a-dccd-408b-88cf-1df3e57be333",
   "metadata": {},
   "outputs": [],
   "source": [
    "import matplotlib.pyplot as plt"
   ]
  },
  {
   "cell_type": "markdown",
   "id": "570c437c-4125-4cf5-9559-9bdedcf18262",
   "metadata": {},
   "source": [
    "### Calculation"
   ]
  },
  {
   "cell_type": "code",
   "execution_count": 75,
   "id": "9153a97f-5b76-4d76-a604-c454d6a78453",
   "metadata": {},
   "outputs": [
    {
     "name": "stdout",
     "output_type": "stream",
     "text": [
      "[2, 4]\n",
      "[5, 10]\n",
      "Linear combination result: [6, 12]\n"
     ]
    }
   ],
   "source": [
    "class VectorVisualizerCalculator:\n",
    "    def __init__(self, v=None, w=None, scalar_a=None, scalar_b=None):\n",
    "        \"\"\"\n",
    "        Initialize the visualizer with optional vectors v and w.\n",
    "        \"\"\"\n",
    "        self.v = v\n",
    "        self.w = w\n",
    "        self.scalar_a = scalar_a\n",
    "        self.scalar_b = scalar_b\n",
    "\n",
    "    def vector_addition(self):\n",
    "        vector_v = self.v\n",
    "        vector_w = self.w\n",
    "        res = []\n",
    "\n",
    "        # Validation\n",
    "        if not (isinstance(vector_v, list) and isinstance(vector_w, list)):\n",
    "            return \"Error: Inputs must be lists\"\n",
    "        if len(vector_v) != len(vector_w):\n",
    "            return \"Error: Vectors must be the same length\"\n",
    "        if not all(isinstance(x, (int, float)) for x in vector_v + vector_w):\n",
    "            return \"Error: Vector elements must be numbers\"\n",
    "\n",
    "        for i in range(len(vector_v)):\n",
    "            res.append(vector_v[i] + vector_w[i])\n",
    "\n",
    "        print(res)\n",
    "\n",
    "    def scalar_multiplication(self):\n",
    "        vector_v = self.v\n",
    "        scalar = self.scalar_a\n",
    "        res = []\n",
    "\n",
    "        # Validation\n",
    "        if not isinstance(vector_v, list):\n",
    "            return \"Error: Vector must be a list\"\n",
    "        if not isinstance(scalar, (int, float)):\n",
    "            return \"Error: Scalar must be a number\"\n",
    "        if not all(isinstance(x, (int, float)) for x in vector_v):\n",
    "            return \"Error: Vector elements must be numbers\"\n",
    "\n",
    "        for i in range(len(vector_v)):\n",
    "            res.append(vector_v[i] * scalar)\n",
    "\n",
    "        print(res)\n",
    "\n",
    "    def linear_combination(self):\n",
    "        v = self.v\n",
    "        w = self.w\n",
    "        a = self.scalar_a\n",
    "        b = self.scalar_b\n",
    "        res = []\n",
    "\n",
    "        # Validation\n",
    "        if not (isinstance(v, list) and isinstance(w, list)):\n",
    "            return \"Error: Vectors must be lists\"\n",
    "        if not isinstance(a, (int, float)) or not isinstance(b, (int, float)):\n",
    "            return \"Error: Scalars must be numbers\"\n",
    "        if len(v) != len(w):\n",
    "            return \"Error: Vectors must be the same length\"\n",
    "        if not all(isinstance(x, (int, float)) for x in v + w):\n",
    "            return \"Error: Vector elements must be numbers\"\n",
    "\n",
    "        for i in range(len(v)):\n",
    "            scaled_v = a * v[i]\n",
    "            scaled_w = b * w[i]\n",
    "            res.append(scaled_v + scaled_w)\n",
    "\n",
    "        print(\"Linear combination result:\", res)\n",
    "\n"
   ]
  },
  {
   "cell_type": "markdown",
   "id": "3532546a-2b10-4205-9959-be392db73adb",
   "metadata": {},
   "source": [
    "### Visualization"
   ]
  },
  {
   "cell_type": "code",
   "execution_count": 76,
   "id": "1a3c846e-eb34-4e0e-bd0d-b4c2e4bda9b7",
   "metadata": {},
   "outputs": [],
   "source": [
    "import matplotlib.pyplot as plt\n",
    "import numpy as np\n",
    "\n",
    "class VectorVisualizerVisualization(VectorVisualizerCalculation):\n",
    "    def __init__(self, v=None, w=None, scalar_a=None, scalar_b=None):\n",
    "        self.v = np.array(v) if v is not None else None\n",
    "        self.w = np.array(w) if w is not None else None\n",
    "        self.scalar_a = scalar_a\n",
    "        self.scalar_b = scalar_b\n",
    "\n",
    "        self.xlim = (-1, 10)\n",
    "        self.ylim = (-1, 10)\n",
    "        self.figsize = (6, 6)\n",
    "\n",
    "    def vector_addition_visual(self):\n",
    "        if self.v is None or self.w is None:\n",
    "            raise ValueError(\"Both vectors v and w must be provided\")\n",
    "        if self.v.shape != self.w.shape:\n",
    "            raise ValueError(\"Vectors v and w must be the same shape\")\n",
    "        if self.v.ndim != 1 or len(self.v) != 2:\n",
    "            raise ValueError(\"This visualization only supports 2D vectors\")\n",
    "\n",
    "        v1 = self.v\n",
    "        v2 = self.w\n",
    "        ans = v1 + v2\n",
    "\n",
    "        plt.figure(figsize=self.figsize)\n",
    "        ax = plt.gca()\n",
    "        ax.set_xlim(self.xlim)\n",
    "        ax.set_ylim(self.ylim)\n",
    "        ax.set_aspect('equal')\n",
    "        plt.grid(True)\n",
    "\n",
    "        plt.quiver(0, 0, v1[0], v1[1], angles='xy', scale_units='xy', scale=1, color='blue', label='Vector v')\n",
    "        plt.quiver(v1[0], v1[1], v2[0], v2[1], angles='xy', scale_units='xy', scale=1, color='green', label='Vector w (from v)')\n",
    "        plt.quiver(0, 0, ans[0], ans[1], angles='xy', scale_units='xy', scale=1, color='red', label='v + w')\n",
    "\n",
    "        plt.legend(fontsize=8)\n",
    "        plt.title(\"2D Vector Addition\")\n",
    "        plt.xlabel(\"X\", fontsize=10)\n",
    "        plt.ylabel(\"Y\", fontsize=10)\n",
    "        plt.show()\n",
    "\n",
    "    def scalar_multiplication_visualization(self):\n",
    "        if self.v is None:\n",
    "            raise ValueError(\"Vector v must be provided\")\n",
    "        if self.scalar_a is None:\n",
    "            raise ValueError(\"Scalar must be provided\")\n",
    "        if not isinstance(self.scalar_a, (int, float)):\n",
    "            raise ValueError(\"Scalar must be a number\")\n",
    "        if self.v.ndim != 1 or len(self.v) != 2:\n",
    "            raise ValueError(\"This visualization only supports 2D vectors\")\n",
    "\n",
    "        v = self.v\n",
    "        scalar = self.scalar_a\n",
    "        scaled_v = v * scalar\n",
    "\n",
    "        plt.figure()\n",
    "        ax = plt.gca()\n",
    "        ax.set_xlim(-10, 10)\n",
    "        ax.set_ylim(-10, 10)\n",
    "        ax.set_aspect('equal')\n",
    "        plt.grid(True)\n",
    "\n",
    "        plt.quiver(0, 0, scaled_v[0], scaled_v[1], angles='xy', scale_units='xy', scale=1, color='red', label=f'{scalar} × vector')\n",
    "        plt.quiver(0, 0, v[0], v[1], angles='xy', scale_units='xy', scale=1, color='blue', label='Original vector')\n",
    "\n",
    "        plt.legend(fontsize=10)\n",
    "        plt.title(\"Scalar Multiplication\", fontsize=12)\n",
    "        plt.xlabel(\"X\", fontsize=10)\n",
    "        plt.ylabel(\"Y\", fontsize=10)\n",
    "        plt.show()\n",
    "\n",
    "    def linear_combination_visualization(self):\n",
    "        if self.v is None or self.w is None:\n",
    "            raise ValueError(\"Both vectors v and w must be provided\")\n",
    "        if self.scalar_a is None or self.scalar_b is None:\n",
    "            raise ValueError(\"Both scalars must be provided\")\n",
    "        if not isinstance(self.scalar_a, (int, float)) or not isinstance(self.scalar_b, (int, float)):\n",
    "            raise ValueError(\"Scalars must be numbers\")\n",
    "        if self.v.shape != self.w.shape:\n",
    "            raise ValueError(\"Vectors v and w must be the same shape\")\n",
    "        if self.v.ndim != 1 or len(self.v) != 2:\n",
    "            raise ValueError(\"This visualization only supports 2D vectors\")\n",
    "\n",
    "        v1 = self.v\n",
    "        v2 = self.w\n",
    "        a = self.scalar_a\n",
    "        b = self.scalar_b\n",
    "\n",
    "        scaled_v1 = a * v1\n",
    "        scaled_v2 = b * v2\n",
    "        ans = scaled_v1 + scaled_v2\n",
    "\n",
    "        plt.figure(figsize=(6, 6))\n",
    "        ax = plt.gca()\n",
    "        ax.set_xlim(-10, 10)\n",
    "        ax.set_ylim(-10, 10)\n",
    "        ax.set_aspect('equal')\n",
    "        plt.grid(True)\n",
    "\n",
    "        plt.quiver(0, 0, scaled_v1[0], scaled_v1[1], angles='xy', scale_units='xy', scale=1, color='cyan', label=f'{a} × v1')\n",
    "        plt.quiver(0, 0, scaled_v2[0], scaled_v2[1], angles='xy', scale_units='xy', scale=1, color='magenta', label=f'{b} × v2')\n",
    "        plt.quiver(scaled_v1[0], scaled_v1[1], scaled_v2[0], scaled_v2[1], angles='xy', scale_units='xy', scale=1, color='orange', label='Scaled v2 from v1')\n",
    "        plt.quiver(0, 0, v1[0], v1[1], angles='xy', scale_units='xy', scale=1, color='blue', label='v1')\n",
    "        plt.quiver(0, 0, v2[0], v2[1], angles='xy', scale_units='xy', scale=1, color='red', label='v2')\n",
    "        plt.quiver(0, 0, ans[0], ans[1], angles='xy', scale_units='xy', scale=1, color='green', label='Linear Combination')\n",
    "\n",
    "        plt.legend(fontsize=9, loc=\"lower right\")\n",
    "        plt.title(\"Linear Combination of Two Vectors\", fontsize=12)\n",
    "        plt.xlabel(\"X\", fontsize=10)\n",
    "        plt.ylabel(\"Y\", fontsize=10)\n",
    "        plt.show()\n"
   ]
  },
  {
   "cell_type": "markdown",
   "id": "88bf806b-6c5b-4fc3-8193-abef869de72c",
   "metadata": {},
   "source": [
    "### Main Menu"
   ]
  },
  {
   "cell_type": "code",
   "execution_count": 79,
   "id": "5ab6642c-54b5-432c-afcc-af6fbfaf5696",
   "metadata": {},
   "outputs": [
    {
     "name": "stdout",
     "output_type": "stream",
     "text": [
      "=== Vector Visualizer Menu ===\n",
      "1. Vector Addition\n",
      "2. Scalar Multiplication\n",
      "3. Linear Combination\n",
      "0. Exit\n"
     ]
    },
    {
     "name": "stdin",
     "output_type": "stream",
     "text": [
      "Enter your choice (0–3):  1\n"
     ]
    },
    {
     "name": "stdout",
     "output_type": "stream",
     "text": [
      "\n",
      "--- Vector Addition ---\n"
     ]
    },
    {
     "name": "stdin",
     "output_type": "stream",
     "text": [
      "Enter vector v (e.g. 1 2):  5 5\n",
      "Enter vector w (e.g. 3 4):  1 2\n"
     ]
    },
    {
     "name": "stdout",
     "output_type": "stream",
     "text": [
      "Addition Result:\n",
      "[6.0, 7.0]\n"
     ]
    },
    {
     "name": "stdin",
     "output_type": "stream",
     "text": [
      "Do you want to see the visualization? (y/n):  y\n"
     ]
    },
    {
     "data": {
      "image/png": "[encoded data removed]",
      "text/plain": [
       "<Figure size 600x600 with 1 Axes>"
      ]
     },
     "metadata": {},
     "output_type": "display_data"
    },
    {
     "name": "stdout",
     "output_type": "stream",
     "text": [
      "\n",
      "\n",
      "=== Vector Visualizer Menu ===\n",
      "1. Vector Addition\n",
      "2. Scalar Multiplication\n",
      "3. Linear Combination\n",
      "0. Exit\n"
     ]
    },
    {
     "name": "stdin",
     "output_type": "stream",
     "text": [
      "Enter your choice (0–3):  0\n"
     ]
    },
    {
     "name": "stdout",
     "output_type": "stream",
     "text": [
      "Exiting.\n"
     ]
    }
   ],
   "source": [
    "def main_menu():\n",
    "    print(\"=== Vector Visualizer Menu ===\")\n",
    "    print(\"1. Vector Addition\")\n",
    "    print(\"2. Scalar Multiplication\")\n",
    "    print(\"3. Linear Combination\")\n",
    "    print(\"0. Exit\")\n",
    "\n",
    "    choice = input(\"Enter your choice (0–3): \").strip()\n",
    "\n",
    "    if choice == '1':\n",
    "        print(\"\\n--- Vector Addition ---\")\n",
    "        v = list(map(float, input(\"Enter vector v (e.g. 1 2): \").split()))\n",
    "        w = list(map(float, input(\"Enter vector w (e.g. 3 4): \").split()))\n",
    "\n",
    "        calc = VectorVisualizerCalculation(v=v, w=w)\n",
    "        print(\"Addition Result:\")\n",
    "        calc.vector_addition()\n",
    "\n",
    "        see_visual = input(\"Do you want to see the visualization? (y/n): \").strip().lower()\n",
    "        if see_visual == 'y':\n",
    "            vis = VectorVisualizerVisualization(v=v, w=w)\n",
    "            vis.vector_addition_visual()\n",
    "\n",
    "    elif choice == '2':\n",
    "        print(\"\\n--- Scalar Multiplication ---\")\n",
    "        v = list(map(float, input(\"Enter vector v (e.g. 2 5): \").split()))\n",
    "        a = float(input(\"Enter scalar a: \"))\n",
    "\n",
    "        calc = VectorVisualizerCalculation(v=v, scalar_a=a)\n",
    "        print(\"Scalar Multiplication Result:\")\n",
    "        calc.scalar_multiplication()\n",
    "\n",
    "        see_visual = input(\"Do you want to see the visualization? (y/n): \").strip().lower()\n",
    "        if see_visual == 'y':\n",
    "            vis = VectorVisualizerVisualization(v=v, scalar_a=a)\n",
    "            vis.scalar_multiplication_visualization()\n",
    "\n",
    "    elif choice == '3':\n",
    "        print(\"\\n--- Linear Combination ---\")\n",
    "        v = list(map(float, input(\"Enter vector v (e.g. 1 2): \").split()))\n",
    "        w = list(map(float, input(\"Enter vector w (e.g. 3 4): \").split()))\n",
    "        a = float(input(\"Enter scalar a (for v): \"))\n",
    "        b = float(input(\"Enter scalar b (for w): \"))\n",
    "\n",
    "        calc = VectorVisualizerCalculation(v=v, w=w, scalar_a=a, scalar_b=b)\n",
    "        print(\"Linear Combination Result:\")\n",
    "        calc.linear_combination()\n",
    "\n",
    "        see_visual = input(\"Do you want to see the visualization? (y/n): \").strip().lower()\n",
    "        if see_visual == 'y':\n",
    "            vis = VectorVisualizerVisualization(v=v, w=w, scalar_a=a, scalar_b=b)\n",
    "            vis.linear_combination_visualization()\n",
    "\n",
    "    elif choice == '0':\n",
    "        print(\"Exiting.\")\n",
    "        return\n",
    "\n",
    "    else:\n",
    "        print(\"Invalid choice. Try again.\")\n",
    "\n",
    "    print(\"\\n\")\n",
    "    main_menu()\n",
    "\n",
    "\n",
    "if __name__ == \"__main__\":\n",
    "    main_menu()"
   ]
  },
  {
   "cell_type": "code",
   "execution_count": null,
   "id": "6f2e0801-2191-4bb6-b647-4c564f169f9e",
   "metadata": {},
   "outputs": [],
   "source": []
  }
 ],
 "metadata": {
  "kernelspec": {
   "display_name": "Python 3 (ipykernel)",
   "language": "python",
   "name": "python3"
  },
  "language_info": {
   "codemirror_mode": {
    "name": "ipython",
    "version": 3
   },
   "file_extension": ".py",
   "mimetype": "text/x-python",
   "name": "python",
   "nbconvert_exporter": "python",
   "pygments_lexer": "ipython3",
   "version": "3.12.6"
  }
 },
 "nbformat": 4,
 "nbformat_minor": 5
}
