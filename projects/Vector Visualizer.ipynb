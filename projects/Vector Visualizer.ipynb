{
 "cells": [
  {
   "cell_type": "code",
   "execution_count": 22,
   "id": "14fd288a-dccd-408b-88cf-1df3e57be333",
   "metadata": {},
   "outputs": [],
   "source": [
    "import matplotlib.pyplot as plt"
   ]
  },
  {
   "cell_type": "code",
   "execution_count": 38,
   "id": "9153a97f-5b76-4d76-a604-c454d6a78453",
   "metadata": {},
   "outputs": [
    {
     "name": "stdout",
     "output_type": "stream",
     "text": [
      "[2, 4]\n",
      "[5, 10]\n",
      "Linear combination result: [6, 12]\n"
     ]
    },
    {
     "data": {
      "image/png": "[encoded data removed]",
      "text/plain": [
       "<Figure size 600x600 with 1 Axes>"
      ]
     },
     "metadata": {},
     "output_type": "display_data"
    }
   ],
   "source": [
    "class VectorVisualizerCalculation:\n",
    "    def __init__(self, v=None, w=None, scalar_a=None, scalar_b=None):\n",
    "        \"\"\"\n",
    "        Initialize the visualizer with optional vectors v and w.\n",
    "        \"\"\"\n",
    "        self.v = v  # Vector 1: [x1, y1]\n",
    "        self.w = w  # Vector 2: [x2, y2]\n",
    "        self.scalar_a = scalar_a\n",
    "        self.scalar_b = scalar_b\n",
    "        \n",
    "\n",
    "    def vector_addition(self):\n",
    "        vector_v, vector_w = self.v, self.w\n",
    "        res = []\n",
    "        if len(vector_v) != len(vector_w):\n",
    "            return \"vector length should be equal\"\n",
    "\n",
    "        for i in range(len(vector_v)):\n",
    "            res.append(vector_v[i]+vector_w[i])\n",
    "\n",
    "        print(res)\n",
    "\n",
    "        \n",
    "    def scalar_multiplication(self):\n",
    "        vector_v = self.v\n",
    "        scalar = self.scalar_a\n",
    "        res = []\n",
    "        for i in range(len(vector_v)):\n",
    "                res.append(vector_v[i]*scalar)\n",
    "        print(res)\n",
    "        \n",
    "\n",
    "    def linear_combination(self):\n",
    "        v = self.v\n",
    "        w = self.w\n",
    "        a = self.scalar_a  # scalar for v\n",
    "        b = self.scalar_b  # scalar for w\n",
    "    \n",
    "        if len(v) != len(w):\n",
    "            return \"Error: Vectors must be the same length\"\n",
    "    \n",
    "        res = []\n",
    "        for i in range(len(v)):\n",
    "            scaled_v = a * v[i]\n",
    "            scaled_w = b * w[i]\n",
    "            res.append(scaled_v + scaled_w)\n",
    "    \n",
    "        print(\"Linear combination result:\", res)\n",
    "\n",
    "\n",
    "import matplotlib.pyplot as plt\n",
    "import numpy as np\n",
    "\n",
    "class VectorVisualizerVisualization(VectorVisualizerCalculation):\n",
    "    def __init__(self, v=None, w=None, scalar_a=None, scalar_b=None):\n",
    "        \"\"\"\n",
    "        Initialize the visualizer with optional vectors v and w.\n",
    "        \"\"\"\n",
    "        self.v = np.array(v) if v is not None else None  # Convert to numpy array for math\n",
    "        self.w = np.array(w) if w is not None else None\n",
    "        self.scalar_a = scalar_a\n",
    "        self.scalar_b = scalar_b\n",
    "        \n",
    "        # Default plot settings\n",
    "        self.xlim = (-1, 10)\n",
    "        self.ylim = (-1, 10)\n",
    "        self.figsize = (6, 6)\n",
    "\n",
    "    def vector_addition_visual(self):\n",
    "        if self.v is None or self.w is None:\n",
    "            raise ValueError(\"Both vectors v and w must be provided\")\n",
    "\n",
    "        v1 = self.v\n",
    "        v2 = self.w\n",
    "        ans = v1 + v2  # vector addition with numpy arrays\n",
    "        \n",
    "        plt.figure(figsize=self.figsize)\n",
    "        ax = plt.gca()\n",
    "        ax.set_xlim(self.xlim)\n",
    "        ax.set_ylim(self.ylim)\n",
    "        ax.set_aspect('equal')\n",
    "        plt.grid(True)\n",
    "\n",
    "        # Draw vectors\n",
    "        plt.quiver(0, 0, v1[0], v1[1], angles='xy', scale_units='xy', scale=1, color='blue', label='Vector v')\n",
    "        plt.quiver(v1[0], v1[1], v2[0], v2[1], angles='xy', scale_units='xy', scale=1, color='green', label='Vector w (from v)')\n",
    "        plt.quiver(0, 0, ans[0], ans[1], angles='xy', scale_units='xy', scale=1, color='red', label='v + w')\n",
    "\n",
    "        plt.legend(fontsize=8)\n",
    "        plt.title(\"2D Vector Addition\")\n",
    "        plt.xlabel(\"X\", fontsize=10)\n",
    "        plt.ylabel(\"Y\", fontsize=10)\n",
    "\n",
    "        plt.show()\n",
    "\n",
    "\n",
    "        \n",
    "\n",
    "\n",
    "VSC = VectorVisualizerCalculation([1, 2], [1, 2], 5, 1)\n",
    "VSC.vector_addition()\n",
    "VSC.scalar_multiplication()\n",
    "VSC.linear_combination()\n",
    "\n",
    "VSV = VectorVisualizerVisualization([1, 2], [2, 3], 5, 1)\n",
    "VSV.vector_addition_visual()"
   ]
  },
  {
   "cell_type": "code",
   "execution_count": null,
   "id": "20818ee8-f0cd-4b4b-8d4f-790148b684ed",
   "metadata": {},
   "outputs": [],
   "source": []
  }
 ],
 "metadata": {
  "kernelspec": {
   "display_name": "Python 3 (ipykernel)",
   "language": "python",
   "name": "python3"
  },
  "language_info": {
   "codemirror_mode": {
    "name": "ipython",
    "version": 3
   },
   "file_extension": ".py",
   "mimetype": "text/x-python",
   "name": "python",
   "nbconvert_exporter": "python",
   "pygments_lexer": "ipython3",
   "version": "3.12.6"
  }
 },
 "nbformat": 4,
 "nbformat_minor": 5
}
