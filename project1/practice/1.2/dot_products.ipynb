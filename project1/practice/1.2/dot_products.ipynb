{
 "cells": [
  {
   "cell_type": "code",
   "execution_count": 1,
   "id": "f33104e0-518d-4b02-ac55-3308e59b3ad6",
   "metadata": {},
   "outputs": [],
   "source": [
    "v = [1, 2]\n",
    "w = [4, 5]"
   ]
  },
  {
   "cell_type": "markdown",
   "id": "da8ea9cd-8535-4a16-8282-7bf0b9d32ef4",
   "metadata": {},
   "source": [
    "### Dot Product"
   ]
  },
  {
   "cell_type": "code",
   "execution_count": null,
   "id": "9398c85a-18a8-4f44-8fe7-b5db3a9e9554",
   "metadata": {},
   "outputs": [],
   "source": [
    "def dot_product(v, w):\n",
    "    res = []\n",
    "    for i in range(len(v)):\n",
    "        "
   ]
  }
 ],
 "metadata": {
  "kernelspec": {
   "display_name": "Python 3 (ipykernel)",
   "language": "python",
   "name": "python3"
  },
  "language_info": {
   "codemirror_mode": {
    "name": "ipython",
    "version": 3
   },
   "file_extension": ".py",
   "mimetype": "text/x-python",
   "name": "python",
   "nbconvert_exporter": "python",
   "pygments_lexer": "ipython3",
   "version": "3.12.6"
  }
 },
 "nbformat": 4,
 "nbformat_minor": 5
}
