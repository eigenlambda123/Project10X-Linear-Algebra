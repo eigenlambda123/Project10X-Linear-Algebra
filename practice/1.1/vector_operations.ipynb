{
 "cells": [
  {
   "cell_type": "code",
   "execution_count": 9,
   "id": "c35f1631-a840-4e63-8d38-876a4abca4c5",
   "metadata": {},
   "outputs": [],
   "source": [
    "a = [1, 2]\n",
    "b = [1, 1]"
   ]
  },
  {
   "cell_type": "markdown",
   "id": "a6a4d3cf-2a6e-42ca-859b-e27057db10cf",
   "metadata": {},
   "source": [
    "### Vector Addition (Column)"
   ]
  },
  {
   "cell_type": "code",
   "execution_count": 10,
   "id": "9f33f623-573a-4943-a20c-b956638f4765",
   "metadata": {
    "scrolled": true
   },
   "outputs": [
    {
     "name": "stdout",
     "output_type": "stream",
     "text": [
      "[2, 3]\n"
     ]
    }
   ],
   "source": [
    "def add_col(v1, v2):\n",
    "    res = []\n",
    "    for i in range(len(v1)):\n",
    "        res.append(v1[i] + v2[i])\n",
    "    return res\n",
    "\n",
    "print(add_col(a, b))"
   ]
  },
  {
   "cell_type": "markdown",
   "id": "76c09fa3-2c92-4359-867d-6db1673990b1",
   "metadata": {},
   "source": [
    "### Vector Addition (Row)"
   ]
  },
  {
   "cell_type": "code",
   "execution_count": 12,
   "id": "ab65587d-e4d2-4643-bace-441c545ddb26",
   "metadata": {},
   "outputs": [
    {
     "name": "stdout",
     "output_type": "stream",
     "text": [
      "[2, 3]\n"
     ]
    }
   ],
   "source": [
    "def add_row(v1, v2):\n",
    "    res = []\n",
    "    for x, y in zip(v1, v2):\n",
    "        res.append(x + y)\n",
    "    return res\n",
    "\n",
    "print(add_row(a, b))"
   ]
  },
  {
   "cell_type": "markdown",
   "id": "b6c32ed7-87cb-46f6-947e-73b00272fe82",
   "metadata": {},
   "source": [
    "### Scalar Multiplication"
   ]
  },
  {
   "cell_type": "code",
   "execution_count": 13,
   "id": "a37192ee-acd0-46a8-8226-f3d634a2b187",
   "metadata": {},
   "outputs": [
    {
     "name": "stdout",
     "output_type": "stream",
     "text": [
      "[10, 20]\n"
     ]
    }
   ],
   "source": [
    "def scale(v, scalar):\n",
    "    res = []\n",
    "    for i in range(len(v)):\n",
    "        res.append(v[i] * scalar)\n",
    "    return res\n",
    "\n",
    "print(scale(a, 10))"
   ]
  },
  {
   "cell_type": "markdown",
   "id": "267259d9-b4e2-4ad0-ad6f-2b880edbfec4",
   "metadata": {},
   "source": [
    "### Linear Combinations"
   ]
  },
  {
   "cell_type": "code",
   "execution_count": 14,
   "id": "797dea9b-c9de-40a5-b804-db06253e008b",
   "metadata": {},
   "outputs": [
    {
     "name": "stdout",
     "output_type": "stream",
     "text": [
      "[20, 30]\n"
     ]
    }
   ],
   "source": [
    "def linear_comb(v1, v2, scalar):\n",
    "    res = []\n",
    "    for i in range(len(v1)):\n",
    "        res.append((v1[i] * scalar) + (v2[i] * scalar))\n",
    "    return res\n",
    "\n",
    "print(linear_comb(a, b, 10))"
   ]
  }
 ],
 "metadata": {
  "kernelspec": {
   "display_name": "Python 3 (ipykernel)",
   "language": "python",
   "name": "python3"
  },
  "language_info": {
   "codemirror_mode": {
    "name": "ipython",
    "version": 3
   },
   "file_extension": ".py",
   "mimetype": "text/x-python",
   "name": "python",
   "nbconvert_exporter": "python",
   "pygments_lexer": "ipython3",
   "version": "3.12.6"
  }
 },
 "nbformat": 4,
 "nbformat_minor": 5
}
