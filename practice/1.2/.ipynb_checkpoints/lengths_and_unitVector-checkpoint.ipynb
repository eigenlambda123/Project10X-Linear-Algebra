{
 "cells": [
  {
   "cell_type": "code",
   "execution_count": 8,
   "id": "8479a805-922a-49b4-8b4b-c1615d7753cf",
   "metadata": {},
   "outputs": [],
   "source": [
    "v = [1, 2, 3]\n",
    "w = [4, 5]\n",
    "\n",
    "a = [4, 2]\n",
    "b = [-1, 2]\n",
    "\n",
    "unit_vector_test = [1/2, 1/2, 1/2, 1/2]"
   ]
  },
  {
   "cell_type": "markdown",
   "id": "98a243ea-f625-487e-bba3-e6267067838d",
   "metadata": {},
   "source": [
    "### Lengths"
   ]
  },
  {
   "cell_type": "code",
   "execution_count": 9,
   "id": "3c004a7e-97d2-420e-b4a9-6a0734b26c1e",
   "metadata": {},
   "outputs": [
    {
     "name": "stdout",
     "output_type": "stream",
     "text": [
      "3.7416573867739413\n"
     ]
    }
   ],
   "source": [
    "import math\n",
    "\n",
    "def calculate_length(vector):\n",
    "    res =[]\n",
    "    for v in range(len(vector)):\n",
    "        res.append(vector[v]*vector[v])\n",
    "    return math.sqrt(sum(res))\n",
    "\n",
    "print(calculate_length(v))"
   ]
  },
  {
   "cell_type": "markdown",
   "id": "13d76c37-c597-4b74-a13c-d1b58ce8b478",
   "metadata": {},
   "source": [
    "### Unit Vector Checker"
   ]
  },
  {
   "cell_type": "code",
   "execution_count": 11,
   "id": "0eb66c08-fd25-49f4-aed1-87cfc49b8b75",
   "metadata": {},
   "outputs": [
    {
     "name": "stdout",
     "output_type": "stream",
     "text": [
      "is a unit vector\n"
     ]
    }
   ],
   "source": [
    "length = calculate_length(unit_vector_test)\n",
    "\n",
    "if length == 1:\n",
    "    print(\"is a unit vector\")\n",
    "else:\n",
    "    print(\"is not a unit vector\")"
   ]
  }
 ],
 "metadata": {
  "kernelspec": {
   "display_name": "Python 3 (ipykernel)",
   "language": "python",
   "name": "python3"
  },
  "language_info": {
   "codemirror_mode": {
    "name": "ipython",
    "version": 3
   },
   "file_extension": ".py",
   "mimetype": "text/x-python",
   "name": "python",
   "nbconvert_exporter": "python",
   "pygments_lexer": "ipython3",
   "version": "3.12.6"
  }
 },
 "nbformat": 4,
 "nbformat_minor": 5
}
