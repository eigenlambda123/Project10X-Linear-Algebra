{
 "cells": [
  {
   "cell_type": "markdown",
   "id": "af720955-259d-4db1-a46f-74980dcd6dae",
   "metadata": {},
   "source": [
    "# The Matrix Form of the Equations"
   ]
  },
  {
   "cell_type": "markdown",
   "id": "58a3818f-52f9-4608-8c2a-c6a5c696d57f",
   "metadata": {},
   "source": [
    "### The System\n",
    "\n",
    "\\begin{aligned}\n",
    "x + 2y + 3z &= 6 \\\\\n",
    "2x + 5y + 2z &= 4 \\\\\n",
    "6x - 3y + z &= 2\n",
    "\\end{aligned}"
   ]
  },
  {
   "cell_type": "markdown",
   "id": "6b888acd-d4e8-4af7-8f34-5b8c11787181",
   "metadata": {},
   "source": [
    "- We have three rows in the row picture and three columns in the column picture (plus the right side). The three rows and three columns contain nine numbers. *These nine numbers fill a 3 by 3 matrix A*:"
   ]
  },
  {
   "cell_type": "markdown",
   "id": "303220ad-6770-406a-a07b-ca42a9bd4c32",
   "metadata": {},
   "source": [
    "---"
   ]
  },
  {
   "cell_type": "markdown",
   "id": "5a900a9f-7a58-4ab2-be91-c6a690da886a",
   "metadata": {},
   "source": [
    "### The Coefficient Matrix in Ax=b is:\n",
    "$$A = \\begin{bmatrix}\n",
    " 1&  2&3  \\\\\n",
    " 2&  5&2  \\\\\n",
    " 6&  -3&1 \n",
    "\\end{bmatrix}$$"
   ]
  },
  {
   "cell_type": "markdown",
   "id": "04fcd0c1-4131-44cf-941d-167e7333776d",
   "metadata": {},
   "source": [
    "- The capital letter `A` stands for all *nine coefficients (in square array)*. The letter `b` denotes the column vector with components *6, 4, 2*. The unknown `x` is also a column vector, with components *x, y, z*."
   ]
  },
  {
   "cell_type": "markdown",
   "id": "14e5cbae-083f-4fcf-bc85-d7fa3e498aa7",
   "metadata": {},
   "source": [
    "---"
   ]
  },
  {
   "cell_type": "markdown",
   "id": "8567b826-928f-4090-937f-9b2ea56225d7",
   "metadata": {},
   "source": [
    "### Matrix Equation `Ax = b`:\n",
    "\n",
    "$$\\begin{bmatrix}\n",
    " 1&  2&3  \\\\\n",
    " 2&  5&2  \\\\\n",
    " 6&  -3&1 \n",
    "\\end{bmatrix} \\\n",
    "\\begin{bmatrix}\n",
    " x\\\\y\n",
    " \\\\z \n",
    "\\end{bmatrix} \\ = \\\n",
    "\\begin{bmatrix}\n",
    " 6\\\\4\n",
    " \\\\2\n",
    "\\end{bmatrix}$$"
   ]
  },
  {
   "cell_type": "markdown",
   "id": "7d92dcdd-3398-49f4-97a0-0861d08b9bdb",
   "metadata": {},
   "source": [
    "---"
   ]
  },
  {
   "cell_type": "markdown",
   "id": "13355d18-41e4-4a72-8840-f7b47d35ff39",
   "metadata": {},
   "source": [
    "### What does it mean to multiply `A` times `x`? \n",
    "\n",
    "* We can multiply by rows or by columns. Either way, `Ax=b` must be a correct statement of the three equations. We do the same nine multiplication either way"
   ]
  },
  {
   "cell_type": "markdown",
   "id": "e17fa84a-7fec-4592-8188-2f6b441efd5d",
   "metadata": {},
   "source": [
    "**Multiplication by rows**\n",
    "\\( Ax \\) comes from dot products, each row times the column \\( x \\):  \n",
    "\n",
    "$$\n",
    "Ax = \n",
    "\\begin{bmatrix}\n",
    "(\\text{row } 1) \\cdot x \\\\\n",
    "(\\text{row } 2) \\cdot x \\\\\n",
    "(\\text{row } 3) \\cdot x\n",
    "\\end{bmatrix}.\n",
    "$$"
   ]
  },
  {
   "cell_type": "code",
   "execution_count": null,
   "id": "a1b2e3e2-5f0e-4f5a-8e8f-1c5c3c3e3e3e",
   "metadata": {},
   "outputs": [],
   "source": [
    "# Python implementation of row-wise multiplication\n",
    "import numpy as np\n",
    "\n",
    "A = np.array([[1, 2, 3],\n",
    "              [2, 5, 2],\n",
    "              [6, -3, 1]])\n",
    "x = np.array([1, 1, 1])  # Example solution x=y=z=1 (for demonstration)\n",
    "\n",
    "# Row-wise multiplication (dot products)\n",
    "b_row = np.array([np.dot(A[0], x),\n",
    "                 np.dot(A[1], x),\n",
    "                 np.dot(A[2], x)])\n",
    "\n",
    "print(\"Row-wise multiplication result:\", b_row)"
   ]
  },
  {
   "cell_type": "markdown",
   "id": "f7a2b1e1-8c1d-4f8c-9c1a-9e9c9c9c9c9c",
   "metadata": {},
   "source": [
    "**Multiplication by columns**\n",
    "\\( Ax \\) is a combination of column vectors:  \n",
    "\n",
    "$$\n",
    "Ax = x \\, (\\text{column } 1) + y \\, (\\text{column } 2) + z \\, (\\text{column } 3).\n",
    "$$"
   ]
  },
  {
   "cell_type": "code",
   "execution_count": null,
   "id": "b2c3d4e5-6f1e-4f7a-9d8f-2d3e4f5g6h7i",
   "metadata": {},
   "outputs": [],
   "source": [
    "# Python implementation of column-wise multiplication\n",
    "b_col = x[0] * A[:,0] + x[1] * A[:,1] + x[2] * A[:,2]\n",
    "\n",
    "print(\"Column-wise multiplication result:\", b_col)\n",
    "print(\"\\nVerification that both methods give the same result:\", \n",
    "      np.array_equal(b_row, b_col))"
   ]
  },
  {
   "cell_type": "markdown",
   "id": "c3d4e5f6-7g8h-4i9j-0k1l-2m3n4o5p6q7r",
   "metadata": {},
   "source": [
    "### Finding the Actual Solution\n",
    "\n",
    "The above used x=[1,1,1] for demonstration. Let's find the actual solution that gives b=[6,4,2]:"
   ]
  },
  {
   "cell_type": "code",
   "execution_count": null,
   "id": "d4e5f6g7-8h9i-0j1k-2l3m-4n5o6p7q8r9s",
   "metadata": {},
   "outputs": [],
   "source": [
    "# Solving the system Ax = b\n",
    "b = np.array([6, 4, 2])\n",
    "x_solution = np.linalg.solve(A, b)\n",
    "\n",
    "print(\"\\nActual solution x that satisfies Ax=b:\", x_solution)\n",
    "print(\"Verification (A @ x_solution):\", A @ x_solution)"
   ]
  }
 ],
 "metadata": {
  "kernelspec": {
   "display_name": "Python 3 (ipykernel)",
   "language": "python",
   "name": "python3"
  },
  "language_info": {
   "codemirror_mode": {
    "name": "ipython",
    "version": 3
   },
   "file_extension": ".py",
   "mimetype": "text/x-python",
   "name": "python",
   "nbconvert_exporter": "python",
   "pygments_lexer": "ipython3",
   "version": "3.12.6"
  }
 },
 "nbformat": 4,
 "nbformat_minor": 5
}
